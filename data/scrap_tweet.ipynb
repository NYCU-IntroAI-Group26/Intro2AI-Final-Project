{
 "cells": [
  {
   "cell_type": "markdown",
   "metadata": {},
   "source": [
    "## Tweets Archive\n",
    "Twitter Stream Grab archive (https://archive.org/details/twitterstream)\n",
    "\n",
    "> A simple collection of JSON grabbed from the general twitter stream, for the purposes of research, history, testing and memory. \n",
    "\n",
    "Download orgin tweet content\n"
   ]
  },
  {
   "cell_type": "code",
   "execution_count": 1,
   "metadata": {},
   "outputs": [],
   "source": [
    "import bz2\n",
    "import json\n",
    "import os\n",
    "import pandas as pd\n",
    "from multiprocessing import Pool\n",
    "from tqdm import tqdm"
   ]
  },
  {
   "cell_type": "code",
   "execution_count": null,
   "metadata": {},
   "outputs": [],
   "source": [
    "# 文件夾路徑\n",
    "folder_path = '../dataset/twitter_stream_2020_01_02/02/'\n",
    "\n",
    "# 初始化列表來存儲推文的文本和ID\n",
    "tweets_data = []\n",
    "\n",
    "# 遍歷文件夾中的所有文件\n",
    "for root, dirs, files in os.walk(folder_path):\n",
    "    print(f'Processing {root} folder...')\n",
    "    for file in files:\n",
    "        if file.endswith('.bz2'):\n",
    "            file_path = os.path.join(root, file)\n",
    "            with bz2.open(file_path, 'rt') as bz_file:\n",
    "                for line in bz_file:\n",
    "                    tweet = json.loads(line)\n",
    "                    # print(tweet)\n",
    "                    tweet_id = tweet.get('id_str')\n",
    "                    tweet_text = tweet.get('text')\n",
    "                    if tweet_id and tweet_text:\n",
    "                        tweets_data.append({'id': tweet_id, 'text': tweet_text})\n",
    "\n",
    "# 創建DataFrame\n",
    "tweets_df = pd.DataFrame(tweets_data)\n",
    "\n",
    "# 保存為CSV文件\n",
    "tweets_df.to_csv('tweets_data_2020_01_02.csv', index=False)"
   ]
  },
  {
   "cell_type": "code",
   "execution_count": 7,
   "metadata": {},
   "outputs": [
    {
     "name": "stdout",
     "output_type": "stream",
     "text": [
      "                    id                                               text\n",
      "0  1212636897220030464                     屍人荘見ようかスターウォーズ見ようか寅さん見ようか迷ってる。\n",
      "1  1212636897236766721  RT @NBBAM: ตอนน้องลิซเป็นลิซ่าแบล็คพิงค์ ฉายาท...\n",
      "2  1212636897220030466  RT @kae95593567: รับสมัคคนซ้อนท้ายหนึ่งอัตราค่...\n",
      "3  1212636897224183808  RT @info_tomonokai: 🆙【第９５弾】『百貨店友の会キャンペーン』公式アカウ...\n",
      "4  1212636897236803585         @colomao0818 ほんと繋げ方が思いつかないけどいざ終わるって考えるとつらい\n"
     ]
    }
   ],
   "source": [
    "print(tweets_df.head())"
   ]
  },
  {
   "cell_type": "code",
   "execution_count": 8,
   "metadata": {},
   "outputs": [
    {
     "name": "stdout",
     "output_type": "stream",
     "text": [
      "(3722541, 2)\n"
     ]
    }
   ],
   "source": [
    "print(tweets_df.shape)"
   ]
  }
 ],
 "metadata": {
  "kernelspec": {
   "display_name": "meme",
   "language": "python",
   "name": "python3"
  },
  "language_info": {
   "codemirror_mode": {
    "name": "ipython",
    "version": 3
   },
   "file_extension": ".py",
   "mimetype": "text/x-python",
   "name": "python",
   "nbconvert_exporter": "python",
   "pygments_lexer": "ipython3",
   "version": "3.11.8"
  }
 },
 "nbformat": 4,
 "nbformat_minor": 2
}
