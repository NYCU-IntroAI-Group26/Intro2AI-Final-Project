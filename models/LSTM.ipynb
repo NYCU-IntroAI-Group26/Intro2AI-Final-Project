{
 "cells": [
  {
   "cell_type": "code",
   "execution_count": 1,
   "metadata": {},
   "outputs": [
    {
     "name": "stdout",
     "output_type": "stream",
     "text": [
      "Using device: cuda\n",
      "Train size: 86885\n",
      "Validation size: 18618\n",
      "Test size: 18619\n"
     ]
    },
    {
     "data": {
      "image/png": "[encoded data removed]",
      "text/plain": [
       "<Figure size 640x480 with 1 Axes>"
      ]
     },
     "metadata": {},
     "output_type": "display_data"
    },
    {
     "name": "stderr",
     "output_type": "stream",
     "text": [
      "100%|██████████| 1358/1358 [00:31<00:00, 43.37it/s]\n",
      "100%|██████████| 291/291 [00:02<00:00, 105.95it/s]\n"
     ]
    },
    {
     "name": "stdout",
     "output_type": "stream",
     "text": [
      "Epoch 1/20, Training Loss: 1.0127288806245323, Validation Loss: 0.9901867592867297, Training Accuracy: 0.48546868158659395, Validation Accuracy: 0.523882791207489\n"
     ]
    },
    {
     "name": "stderr",
     "output_type": "stream",
     "text": [
      "100%|██████████| 1358/1358 [00:37<00:00, 36.42it/s]\n",
      "100%|██████████| 291/291 [00:02<00:00, 101.61it/s]\n"
     ]
    },
    {
     "name": "stdout",
     "output_type": "stream",
     "text": [
      "Epoch 2/20, Training Loss: 0.9402825486501994, Validation Loss: 0.8654812271242699, Training Accuracy: 0.5473336807905107, Validation Accuracy: 0.5943091598530632\n"
     ]
    },
    {
     "name": "stderr",
     "output_type": "stream",
     "text": [
      "100%|██████████| 1358/1358 [00:39<00:00, 34.80it/s]\n",
      "100%|██████████| 291/291 [00:02<00:00, 99.38it/s] \n"
     ]
    },
    {
     "name": "stdout",
     "output_type": "stream",
     "text": [
      "Epoch 3/20, Training Loss: 0.8929872319255907, Validation Loss: 0.8427628346325196, Training Accuracy: 0.5837603988377185, Validation Accuracy: 0.614283386657187\n"
     ]
    },
    {
     "name": "stderr",
     "output_type": "stream",
     "text": [
      "100%|██████████| 1358/1358 [00:43<00:00, 31.10it/s]\n",
      "100%|██████████| 291/291 [00:04<00:00, 66.52it/s]\n"
     ]
    },
    {
     "name": "stdout",
     "output_type": "stream",
     "text": [
      "Epoch 4/20, Training Loss: 0.8757028001660978, Validation Loss: 0.8300221541902864, Training Accuracy: 0.5950759761971102, Validation Accuracy: 0.6187288926413083\n"
     ]
    },
    {
     "name": "stderr",
     "output_type": "stream",
     "text": [
      "100%|██████████| 1358/1358 [01:43<00:00, 13.08it/s]\n",
      "100%|██████████| 291/291 [00:08<00:00, 34.13it/s]\n"
     ]
    },
    {
     "name": "stdout",
     "output_type": "stream",
     "text": [
      "Epoch 5/20, Training Loss: 0.8639871952547767, Validation Loss: 0.8267572077688893, Training Accuracy: 0.5997996109143017, Validation Accuracy: 0.6171939803294229\n"
     ]
    },
    {
     "name": "stderr",
     "output_type": "stream",
     "text": [
      "100%|██████████| 1358/1358 [01:36<00:00, 14.10it/s]\n",
      "100%|██████████| 291/291 [00:07<00:00, 37.88it/s]\n"
     ]
    },
    {
     "name": "stdout",
     "output_type": "stream",
     "text": [
      "Epoch 6/20, Training Loss: 0.853903691573768, Validation Loss: 0.8192001722522617, Training Accuracy: 0.6086476411057598, Validation Accuracy: 0.629012249674132\n"
     ]
    },
    {
     "name": "stderr",
     "output_type": "stream",
     "text": [
      "100%|██████████| 1358/1358 [01:35<00:00, 14.18it/s]\n",
      "100%|██████████| 291/291 [00:07<00:00, 41.28it/s]\n"
     ]
    },
    {
     "name": "stdout",
     "output_type": "stream",
     "text": [
      "Epoch 7/20, Training Loss: 0.8437174910649284, Validation Loss: 0.8098906798870703, Training Accuracy: 0.6106621049436771, Validation Accuracy: 0.6305267952364024\n"
     ]
    },
    {
     "name": "stderr",
     "output_type": "stream",
     "text": [
      "100%|██████████| 1358/1358 [01:42<00:00, 13.27it/s]\n",
      "100%|██████████| 291/291 [00:07<00:00, 39.27it/s]\n"
     ]
    },
    {
     "name": "stdout",
     "output_type": "stream",
     "text": [
      "Epoch 8/20, Training Loss: 0.8357351574174434, Validation Loss: 0.8105100632942829, Training Accuracy: 0.6166734665446005, Validation Accuracy: 0.6304082977840977\n"
     ]
    },
    {
     "name": "stderr",
     "output_type": "stream",
     "text": [
      "100%|██████████| 1358/1358 [01:41<00:00, 13.33it/s]\n",
      "100%|██████████| 291/291 [00:07<00:00, 40.60it/s]\n"
     ]
    },
    {
     "name": "stdout",
     "output_type": "stream",
     "text": [
      "Epoch 9/20, Training Loss: 0.8294729546524463, Validation Loss: 0.802995805068524, Training Accuracy: 0.6216116705807427, Validation Accuracy: 0.6289104159260576\n"
     ]
    },
    {
     "name": "stderr",
     "output_type": "stream",
     "text": [
      "100%|██████████| 1358/1358 [01:51<00:00, 12.17it/s]\n",
      "100%|██████████| 291/291 [00:07<00:00, 38.55it/s]\n"
     ]
    },
    {
     "name": "stdout",
     "output_type": "stream",
     "text": [
      "Epoch 10/20, Training Loss: 0.8237971713072422, Validation Loss: 0.8059645749858975, Training Accuracy: 0.6221428073876528, Validation Accuracy: 0.6350852441047518\n"
     ]
    },
    {
     "name": "stderr",
     "output_type": "stream",
     "text": [
      "100%|██████████| 1358/1358 [01:52<00:00, 12.06it/s]\n",
      "100%|██████████| 291/291 [00:07<00:00, 38.10it/s]\n"
     ]
    },
    {
     "name": "stdout",
     "output_type": "stream",
     "text": [
      "Epoch 11/20, Training Loss: 0.8184581299330244, Validation Loss: 0.8037913236831062, Training Accuracy: 0.6272557765792302, Validation Accuracy: 0.6316488179879133\n"
     ]
    },
    {
     "name": "stderr",
     "output_type": "stream",
     "text": [
      "100%|██████████| 1358/1358 [01:56<00:00, 11.65it/s]\n",
      "100%|██████████| 291/291 [00:08<00:00, 33.49it/s]\n"
     ]
    },
    {
     "name": "stdout",
     "output_type": "stream",
     "text": [
      "Epoch 12/20, Training Loss: 0.8110623894278536, Validation Loss: 0.7942046254770863, Training Accuracy: 0.6311960777972376, Validation Accuracy: 0.6402028528261642\n"
     ]
    },
    {
     "name": "stderr",
     "output_type": "stream",
     "text": [
      "100%|██████████| 1358/1358 [02:04<00:00, 10.95it/s]\n",
      "100%|██████████| 291/291 [00:08<00:00, 34.25it/s]\n"
     ]
    },
    {
     "name": "stdout",
     "output_type": "stream",
     "text": [
      "Epoch 13/20, Training Loss: 0.8065077695386574, Validation Loss: 0.7906742173781509, Training Accuracy: 0.6331467927795247, Validation Accuracy: 0.6415340976419007\n"
     ]
    },
    {
     "name": "stderr",
     "output_type": "stream",
     "text": [
      "100%|██████████| 1358/1358 [02:05<00:00, 10.83it/s]\n",
      "100%|██████████| 291/291 [00:09<00:00, 29.72it/s]\n"
     ]
    },
    {
     "name": "stdout",
     "output_type": "stream",
     "text": [
      "Epoch 14/20, Training Loss: 0.7993817895168057, Validation Loss: 0.7909545484687045, Training Accuracy: 0.637153952553437, Validation Accuracy: 0.636916400047399\n"
     ]
    },
    {
     "name": "stderr",
     "output_type": "stream",
     "text": [
      "100%|██████████| 1358/1358 [02:06<00:00, 10.75it/s]\n",
      "100%|██████████| 291/291 [00:08<00:00, 33.80it/s]\n"
     ]
    },
    {
     "name": "stdout",
     "output_type": "stream",
     "text": [
      "Epoch 15/20, Training Loss: 0.794755423148005, Validation Loss: 0.7896447357852844, Training Accuracy: 0.6384678009194762, Validation Accuracy: 0.6416414859580519\n"
     ]
    },
    {
     "name": "stderr",
     "output_type": "stream",
     "text": [
      "100%|██████████| 1358/1358 [02:07<00:00, 10.64it/s]\n",
      "100%|██████████| 291/291 [00:09<00:00, 29.84it/s]\n"
     ]
    },
    {
     "name": "stdout",
     "output_type": "stream",
     "text": [
      "Epoch 16/20, Training Loss: 0.7932724883349198, Validation Loss: 0.7933810257010444, Training Accuracy: 0.6401414416072921, Validation Accuracy: 0.6434726419006991\n"
     ]
    },
    {
     "name": "stderr",
     "output_type": "stream",
     "text": [
      "100%|██████████| 1358/1358 [01:52<00:00, 12.12it/s]\n",
      "100%|██████████| 291/291 [00:06<00:00, 45.17it/s]\n"
     ]
    },
    {
     "name": "stdout",
     "output_type": "stream",
     "text": [
      "Epoch 17/20, Training Loss: 0.7846522261450323, Validation Loss: 0.7921041436621413, Training Accuracy: 0.6448398877522589, Validation Accuracy: 0.6427857269818699\n"
     ]
    },
    {
     "name": "stderr",
     "output_type": "stream",
     "text": [
      "100%|██████████| 1358/1358 [02:20<00:00,  9.68it/s]\n",
      "100%|██████████| 291/291 [00:17<00:00, 16.92it/s]\n"
     ]
    },
    {
     "name": "stdout",
     "output_type": "stream",
     "text": [
      "Epoch 18/20, Training Loss: 0.7825890539408783, Validation Loss: 0.7906851375225893, Training Accuracy: 0.6466547088325438, Validation Accuracy: 0.642624644507643\n"
     ]
    },
    {
     "name": "stderr",
     "output_type": "stream",
     "text": [
      "100%|██████████| 1358/1358 [01:34<00:00, 14.39it/s]\n",
      "100%|██████████| 291/291 [00:06<00:00, 47.72it/s]\n"
     ]
    },
    {
     "name": "stdout",
     "output_type": "stream",
     "text": [
      "Epoch 19/20, Training Loss: 0.7798785245997917, Validation Loss: 0.7904663856086862, Training Accuracy: 0.6474498591927715, Validation Accuracy: 0.6392844975708022\n"
     ]
    },
    {
     "name": "stderr",
     "output_type": "stream",
     "text": [
      "100%|██████████| 1358/1358 [01:20<00:00, 16.89it/s]\n",
      "100%|██████████| 291/291 [00:03<00:00, 90.80it/s] \n"
     ]
    },
    {
     "name": "stdout",
     "output_type": "stream",
     "text": [
      "Epoch 20/20, Training Loss: 0.771406577068857, Validation Loss: 0.8001685959776652, Training Accuracy: 0.6533878318672133, Validation Accuracy: 0.6425765049176443\n"
     ]
    },
    {
     "name": "stderr",
     "output_type": "stream",
     "text": [
      "100%|██████████| 291/291 [00:03<00:00, 96.14it/s] \n"
     ]
    },
    {
     "name": "stdout",
     "output_type": "stream",
     "text": [
      "Test Accuracy: 0.6422258139670336\n"
     ]
    },
    {
     "data": {
      "image/png": "[encoded data removed]",
      "text/plain": [
       "<Figure size 1000x500 with 1 Axes>"
      ]
     },
     "metadata": {},
     "output_type": "display_data"
    },
    {
     "data": {
      "image/png": "[encoded data removed]",
      "text/plain": [
       "<Figure size 640x480 with 2 Axes>"
      ]
     },
     "metadata": {},
     "output_type": "display_data"
    }
   ],
   "source": [
    "import numpy as np\n",
    "import pandas as pd\n",
    "import torch\n",
    "import torch.nn as nn\n",
    "import torch.optim as optim\n",
    "from nltk.corpus import stopwords\n",
    "from collections import Counter\n",
    "import re\n",
    "import seaborn as sns\n",
    "from tqdm import tqdm\n",
    "import matplotlib.pyplot as plt\n",
    "from torch.utils.data import TensorDataset, DataLoader\n",
    "from sklearn.model_selection import train_test_split\n",
    "from sklearn.metrics import confusion_matrix, ConfusionMatrixDisplay\n",
    "from torch.nn.utils.rnn import pad_sequence\n",
    "\n",
    "device = torch.device(\"cuda\" if torch.cuda.is_available() else \"cpu\")\n",
    "print(f'Using device: {device}')\n",
    "\n",
    "# Load data\n",
    "data = pd.read_csv('../dataset/process/tweets_cleaned_without_emoji_emoticons-tfidf.tsv', sep='\\t')\n",
    "data = data.dropna()\n",
    "\n",
    "X = data['text'].values\n",
    "y = data['sentiment'].values\n",
    "\n",
    "# Split data\n",
    "X_train, X_temp, y_train, y_temp = train_test_split(X, y, test_size=0.3, random_state=42)\n",
    "X_val, X_test, y_val, y_test = train_test_split(X_temp, y_temp, test_size=0.5, random_state=42)\n",
    "\n",
    "print(f'Train size: {len(X_train)}')\n",
    "print(f'Validation size: {len(X_val)}')\n",
    "print(f'Test size: {len(X_test)}')\n",
    "\n",
    "# Plot class distribution\n",
    "dd = pd.Series(y_train).value_counts()\n",
    "sns.barplot(x=np.array(['negative', 'neutral', 'positive']), y=dd.values)\n",
    "plt.show()\n",
    "\n",
    "# Preprocess function\n",
    "def preprocess_string(s):\n",
    "    s = re.sub(r\"[^\\w\\s]\", '', s)\n",
    "    s = re.sub(r\"\\s+\", ' ', s)\n",
    "    s = re.sub(r\"\\d\", '', s)\n",
    "    return s\n",
    "\n",
    "# Tokenize function\n",
    "def tokenize(x_train, x_val, x_test):\n",
    "    word_list = []\n",
    "    stop_words = set(stopwords.words('english'))\n",
    "    for sent in x_train:\n",
    "        for word in sent.lower().split():\n",
    "            word = preprocess_string(word)\n",
    "            if word not in stop_words and word != '':\n",
    "                word_list.append(word)\n",
    "\n",
    "    corpus = Counter(word_list)\n",
    "    # Create a vocabulary index\n",
    "    vocab = {word: idx for idx, (word, _) in enumerate(corpus.items(), 1)}\n",
    "\n",
    "    def encode(sentences):\n",
    "        return [[vocab[preprocess_string(word)] for word in sent.lower().split() if preprocess_string(word) in vocab] for sent in sentences]\n",
    "\n",
    "    x_train_encoded = encode(x_train)\n",
    "    x_val_encoded = encode(x_val)\n",
    "    x_test_encoded = encode(x_test)\n",
    "    \n",
    "    # Pad sequences\n",
    "    x_train_padded = pad_sequence([torch.tensor(x) for x in x_train_encoded], batch_first=True, padding_value=0)\n",
    "    x_val_padded = pad_sequence([torch.tensor(x) for x in x_val_encoded], batch_first=True, padding_value=0)\n",
    "    x_test_padded = pad_sequence([torch.tensor(x) for x in x_test_encoded], batch_first=True, padding_value=0)\n",
    "    \n",
    "    return x_train_padded, x_val_padded, x_test_padded, vocab\n",
    "\n",
    "X_train_padded, X_val_padded, X_test_padded, vocab = tokenize(X_train, X_val, X_test)\n",
    "y_train_tensor = torch.tensor(y_train)\n",
    "y_val_tensor = torch.tensor(y_val)\n",
    "y_test_tensor = torch.tensor(y_test)\n",
    "\n",
    "# Load pre-trained GloVe embeddings\n",
    "def load_glove_embeddings(glove_file):\n",
    "    embeddings_index = {}\n",
    "    with open(glove_file, encoding=\"utf8\") as f:\n",
    "        for line in f:\n",
    "            values = line.split()\n",
    "            word = values[0]\n",
    "            embedding = np.array(values[1:], dtype='float32')\n",
    "            embeddings_index[word] = embedding\n",
    "    return embeddings_index\n",
    "\n",
    "glove_embeddings = load_glove_embeddings('../dataset/glove_twitter_27B/glove.twitter.27B.100d.txt')\n",
    "\n",
    "# Create embedding matrix\n",
    "embedding_dim = 100\n",
    "embedding_matrix = np.zeros((len(vocab) + 1, embedding_dim))\n",
    "for word, i in vocab.items():\n",
    "    embedding_vector = glove_embeddings.get(word)\n",
    "    if embedding_vector is not None:\n",
    "        embedding_matrix[i] = embedding_vector\n",
    "\n",
    "# Define the LSTM model\n",
    "class SentimentLSTM(nn.Module):\n",
    "    def __init__(self, vocab_size, embedding_dim, hidden_dim, output_dim, n_layers, dropout, embedding_matrix):\n",
    "        super(SentimentLSTM, self).__init__()\n",
    "        self.embedding = nn.Embedding.from_pretrained(torch.tensor(embedding_matrix, dtype=torch.float32))\n",
    "        self.lstm = nn.LSTM(embedding_dim, hidden_dim, num_layers=n_layers, dropout=dropout, batch_first=True)\n",
    "        self.fc = nn.Linear(hidden_dim, output_dim)\n",
    "        self.dropout = nn.Dropout(dropout)\n",
    "    \n",
    "    def forward(self, x):\n",
    "        embedded = self.dropout(self.embedding(x))\n",
    "        lstm_out, _ = self.lstm(embedded)\n",
    "        final_feature_map = self.dropout(lstm_out[:, -1, :])\n",
    "        final_out = self.fc(final_feature_map)\n",
    "        return final_out\n",
    "\n",
    "# Hyperparameters\n",
    "vocab_size = len(vocab) + 1\n",
    "hidden_dim = 256\n",
    "output_dim = 3\n",
    "n_layers = 2\n",
    "dropout = 0.5\n",
    "\n",
    "model = SentimentLSTM(vocab_size, embedding_dim, hidden_dim, output_dim, n_layers, dropout, embedding_matrix)\n",
    "model.to(device)\n",
    "\n",
    "# Loss and optimizer\n",
    "criterion = nn.CrossEntropyLoss()\n",
    "optimizer = optim.Adam(model.parameters(), lr=0.001)\n",
    "\n",
    "# Accuracy calculation function\n",
    "def calculate_accuracy(preds, y):\n",
    "    _, pred_classes = torch.max(preds, 1)\n",
    "    correct = (pred_classes == y).sum().item()\n",
    "    return correct / len(y)\n",
    "\n",
    "epochs = 20\n",
    "patience = 3\n",
    "best_val_loss = float('inf')\n",
    "early_stopping_counter = 0\n",
    "\n",
    "train_losses_over_time = []\n",
    "val_losses_over_time = []\n",
    "\n",
    "for epoch in range(epochs):\n",
    "    model.train()\n",
    "    train_losses = []\n",
    "    train_accuracies = []\n",
    "    for inputs, labels in tqdm(DataLoader(TensorDataset(X_train_padded, y_train_tensor), batch_size=64, shuffle=True)):\n",
    "        inputs, labels = inputs.to(device), labels.to(device)\n",
    "        optimizer.zero_grad()\n",
    "        outputs = model(inputs)\n",
    "        loss = criterion(outputs, labels)\n",
    "        loss.backward()\n",
    "        optimizer.step()\n",
    "        train_losses.append(loss.item())\n",
    "        train_accuracies.append(calculate_accuracy(outputs, labels))\n",
    "\n",
    "    model.eval()\n",
    "    val_losses = []\n",
    "    val_accuracies = []\n",
    "    with torch.no_grad():\n",
    "        for inputs, labels in tqdm(DataLoader(TensorDataset(X_val_padded, y_val_tensor), batch_size=64, shuffle=False)):\n",
    "            inputs, labels = inputs.to(device), labels.to(device)\n",
    "            outputs = model(inputs)\n",
    "            loss = criterion(outputs, labels)\n",
    "            val_losses.append(loss.item())\n",
    "            val_accuracies.append(calculate_accuracy(outputs, labels))\n",
    "\n",
    "    train_loss = np.mean(train_losses)\n",
    "    val_loss = np.mean(val_losses)\n",
    "    train_accuracy = np.mean(train_accuracies)\n",
    "    val_accuracy = np.mean(val_accuracies)\n",
    "    \n",
    "    train_losses_over_time.append(train_loss)\n",
    "    val_losses_over_time.append(val_loss)\n",
    "    \n",
    "    print(f'Epoch {epoch + 1}/{epochs}, Training Loss: {train_loss}, Validation Loss: {val_loss}, Training Accuracy: {train_accuracy}, Validation Accuracy: {val_accuracy}')\n",
    "\n",
    "    if val_loss < best_val_loss:\n",
    "        best_val_loss = val_loss\n",
    "        early_stopping_counter = 0\n",
    "        torch.save(model.state_dict(), 'best_model.pt')\n",
    "\n",
    "model.load_state_dict(torch.load('best_model.pt'))\n",
    "model.eval()\n",
    "test_accuracies = []\n",
    "all_preds = []\n",
    "all_labels = []\n",
    "with torch.no_grad():\n",
    "    for inputs, labels in tqdm(DataLoader(TensorDataset(X_test_padded, y_test_tensor), batch_size=64, shuffle=False)):\n",
    "        inputs, labels = inputs.to(device), labels.to(device)\n",
    "        outputs = model(inputs)\n",
    "        test_accuracies.append(calculate_accuracy(outputs, labels))\n",
    "        all_preds.append(outputs.cpu())\n",
    "        all_labels.append(labels.cpu())\n",
    "\n",
    "test_accuracy = np.mean(test_accuracies)\n",
    "print(f'Test Accuracy: {test_accuracy}')\n",
    "\n",
    "# Plot loss over time\n",
    "plt.figure(figsize=(10, 5))\n",
    "plt.plot(range(len(train_losses_over_time)), train_losses_over_time, label='Training Loss')\n",
    "plt.plot(range(len(val_losses_over_time)), val_losses_over_time, label='Validation Loss')\n",
    "plt.xlabel('Epochs')\n",
    "plt.ylabel('Loss')\n",
    "plt.legend()\n",
    "plt.show()\n",
    "\n",
    "# Plot confusion matrix\n",
    "all_preds = torch.cat(all_preds)\n",
    "all_labels = torch.cat(all_labels)\n",
    "_, pred_classes = torch.max(all_preds, 1)\n",
    "cm = confusion_matrix(all_labels, pred_classes)\n",
    "disp = ConfusionMatrixDisplay(confusion_matrix=cm, display_labels=['negative', 'neutral', 'positive'])\n",
    "disp.plot(cmap=plt.cm.Blues)\n",
    "plt.show()\n"
   ]
  }
 ],
 "metadata": {
  "kernelspec": {
   "display_name": "meme",
   "language": "python",
   "name": "python3"
  },
  "language_info": {
   "codemirror_mode": {
    "name": "ipython",
    "version": 3
   },
   "file_extension": ".py",
   "mimetype": "text/x-python",
   "name": "python",
   "nbconvert_exporter": "python",
   "pygments_lexer": "ipython3",
   "version": "3.11.8"
  }
 },
 "nbformat": 4,
 "nbformat_minor": 2
}
