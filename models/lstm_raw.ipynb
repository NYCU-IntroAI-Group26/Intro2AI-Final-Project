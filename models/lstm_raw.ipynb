{
 "cells": [
  {
   "cell_type": "code",
   "execution_count": 3,
   "metadata": {},
   "outputs": [
    {
     "name": "stdout",
     "output_type": "stream",
     "text": [
      "Using device: cuda\n",
      "Train size: 87145\n",
      "Validation size: 18674\n",
      "Test size: 18675\n"
     ]
    },
    {
     "data": {
      "image/png": "[encoded data removed]",
      "text/plain": [
       "<Figure size 640x480 with 1 Axes>"
      ]
     },
     "metadata": {},
     "output_type": "display_data"
    },
    {
     "name": "stderr",
     "output_type": "stream",
     "text": [
      "100%|██████████| 1362/1362 [03:13<00:00,  7.05it/s]\n",
      "100%|██████████| 292/292 [00:16<00:00, 17.40it/s]\n"
     ]
    },
    {
     "name": "stdout",
     "output_type": "stream",
     "text": [
      "Epoch 1/20, Training Loss: 1.0633617180909705, Validation Loss: 1.0520723568250054, Training Accuracy: 0.4529884540310161, Validation Accuracy: 0.45974529109589035\n"
     ]
    },
    {
     "name": "stderr",
     "output_type": "stream",
     "text": [
      "100%|██████████| 1362/1362 [03:23<00:00,  6.68it/s]\n",
      "100%|██████████| 292/292 [00:17<00:00, 16.67it/s]\n"
     ]
    },
    {
     "name": "stdout",
     "output_type": "stream",
     "text": [
      "Epoch 2/20, Training Loss: 1.0596499019869974, Validation Loss: 1.0571831205528077, Training Accuracy: 0.45364740025428885, Validation Accuracy: 0.45974529109589035\n"
     ]
    },
    {
     "name": "stderr",
     "output_type": "stream",
     "text": [
      "100%|██████████| 1362/1362 [03:11<00:00,  7.10it/s]\n",
      "100%|██████████| 292/292 [00:16<00:00, 18.17it/s]\n"
     ]
    },
    {
     "name": "stdout",
     "output_type": "stream",
     "text": [
      "Epoch 3/20, Training Loss: 1.0641985619208185, Validation Loss: 1.0597086679445553, Training Accuracy: 0.4506431091293292, Validation Accuracy: 0.45974529109589035\n"
     ]
    },
    {
     "name": "stderr",
     "output_type": "stream",
     "text": [
      "100%|██████████| 1362/1362 [03:22<00:00,  6.73it/s]\n",
      "100%|██████████| 292/292 [00:14<00:00, 20.58it/s]\n"
     ]
    },
    {
     "name": "stdout",
     "output_type": "stream",
     "text": [
      "Epoch 4/20, Training Loss: 1.0624364747087336, Validation Loss: 1.057071103012725, Training Accuracy: 0.4540016363131693, Validation Accuracy: 0.45974529109589035\n"
     ]
    },
    {
     "name": "stderr",
     "output_type": "stream",
     "text": [
      "100%|██████████| 1362/1362 [03:11<00:00,  7.12it/s]\n",
      "100%|██████████| 292/292 [00:15<00:00, 19.26it/s]\n"
     ]
    },
    {
     "name": "stdout",
     "output_type": "stream",
     "text": [
      "Epoch 5/20, Training Loss: 1.062807027463871, Validation Loss: 1.0574863716347578, Training Accuracy: 0.4540044343863042, Validation Accuracy: 0.45974529109589035\n"
     ]
    },
    {
     "name": "stderr",
     "output_type": "stream",
     "text": [
      "100%|██████████| 1362/1362 [03:16<00:00,  6.92it/s]\n",
      "100%|██████████| 292/292 [00:14<00:00, 20.22it/s]\n"
     ]
    },
    {
     "name": "stdout",
     "output_type": "stream",
     "text": [
      "Epoch 6/20, Training Loss: 1.075583309197741, Validation Loss: 1.9342956600123888, Training Accuracy: 0.4551057559722073, Validation Accuracy: 0.25585188356164384\n"
     ]
    },
    {
     "name": "stderr",
     "output_type": "stream",
     "text": [
      "100%|██████████| 1362/1362 [03:12<00:00,  7.07it/s]\n",
      "100%|██████████| 292/292 [00:15<00:00, 19.15it/s]\n"
     ]
    },
    {
     "name": "stdout",
     "output_type": "stream",
     "text": [
      "Epoch 7/20, Training Loss: 1.0881972963239304, Validation Loss: 1.0422152589036995, Training Accuracy: 0.4289608404068622, Validation Accuracy: 0.45974529109589035\n"
     ]
    },
    {
     "name": "stderr",
     "output_type": "stream",
     "text": [
      "100%|██████████| 1362/1362 [03:19<00:00,  6.83it/s]\n",
      "100%|██████████| 292/292 [00:18<00:00, 15.67it/s]\n"
     ]
    },
    {
     "name": "stdout",
     "output_type": "stream",
     "text": [
      "Epoch 8/20, Training Loss: 1.0555692001761494, Validation Loss: 1.0191599069392845, Training Accuracy: 0.4460184538519394, Validation Accuracy: 0.4798202054794521\n"
     ]
    },
    {
     "name": "stderr",
     "output_type": "stream",
     "text": [
      "100%|██████████| 1362/1362 [03:33<00:00,  6.37it/s]\n",
      "100%|██████████| 292/292 [00:19<00:00, 15.11it/s]\n"
     ]
    },
    {
     "name": "stdout",
     "output_type": "stream",
     "text": [
      "Epoch 9/20, Training Loss: 1.02731446289456, Validation Loss: 0.9900170917788597, Training Accuracy: 0.469303179058773, Validation Accuracy: 0.4972474315068493\n"
     ]
    },
    {
     "name": "stderr",
     "output_type": "stream",
     "text": [
      "100%|██████████| 1362/1362 [03:21<00:00,  6.77it/s]\n",
      "100%|██████████| 292/292 [00:17<00:00, 17.13it/s]\n"
     ]
    },
    {
     "name": "stdout",
     "output_type": "stream",
     "text": [
      "Epoch 10/20, Training Loss: 1.0020842482164918, Validation Loss: 0.9530332378328663, Training Accuracy: 0.4918422177751513, Validation Accuracy: 0.5486258561643835\n"
     ]
    },
    {
     "name": "stderr",
     "output_type": "stream",
     "text": [
      "100%|██████████| 1362/1362 [03:11<00:00,  7.13it/s]\n",
      "100%|██████████| 292/292 [00:16<00:00, 17.20it/s]\n"
     ]
    },
    {
     "name": "stdout",
     "output_type": "stream",
     "text": [
      "Epoch 11/20, Training Loss: 0.9751734591353132, Validation Loss: 0.916682703650161, Training Accuracy: 0.5168041080190537, Validation Accuracy: 0.5611023116438356\n"
     ]
    },
    {
     "name": "stderr",
     "output_type": "stream",
     "text": [
      "100%|██████████| 1362/1362 [03:16<00:00,  6.93it/s]\n",
      "100%|██████████| 292/292 [00:18<00:00, 15.56it/s]\n"
     ]
    },
    {
     "name": "stdout",
     "output_type": "stream",
     "text": [
      "Epoch 12/20, Training Loss: 0.9868651935270004, Validation Loss: 0.9689006227744769, Training Accuracy: 0.506956009813402, Validation Accuracy: 0.5272153253424657\n"
     ]
    },
    {
     "name": "stderr",
     "output_type": "stream",
     "text": [
      "100%|██████████| 1362/1362 [03:25<00:00,  6.64it/s]\n",
      "100%|██████████| 292/292 [00:20<00:00, 14.53it/s]\n"
     ]
    },
    {
     "name": "stdout",
     "output_type": "stream",
     "text": [
      "Epoch 13/20, Training Loss: 0.9761262549615292, Validation Loss: 0.9278172550544347, Training Accuracy: 0.5150502757780882, Validation Accuracy: 0.5529066780821917\n"
     ]
    },
    {
     "name": "stderr",
     "output_type": "stream",
     "text": [
      "100%|██████████| 1362/1362 [03:23<00:00,  6.69it/s]\n",
      "100%|██████████| 292/292 [00:18<00:00, 15.38it/s]\n"
     ]
    },
    {
     "name": "stdout",
     "output_type": "stream",
     "text": [
      "Epoch 14/20, Training Loss: 0.9580732431268202, Validation Loss: 0.9232807845285494, Training Accuracy: 0.528775943734107, Validation Accuracy: 0.5587692636986302\n"
     ]
    },
    {
     "name": "stderr",
     "output_type": "stream",
     "text": [
      "100%|██████████| 1362/1362 [03:25<00:00,  6.64it/s]\n",
      "100%|██████████| 292/292 [00:18<00:00, 15.85it/s]\n"
     ]
    },
    {
     "name": "stdout",
     "output_type": "stream",
     "text": [
      "Epoch 15/20, Training Loss: 0.9501906808427427, Validation Loss: 0.9339345852806143, Training Accuracy: 0.5369605874610508, Validation Accuracy: 0.5414169520547946\n"
     ]
    },
    {
     "name": "stderr",
     "output_type": "stream",
     "text": [
      "100%|██████████| 1362/1362 [03:15<00:00,  6.97it/s]\n",
      "100%|██████████| 292/292 [00:18<00:00, 15.51it/s]\n"
     ]
    },
    {
     "name": "stdout",
     "output_type": "stream",
     "text": [
      "Epoch 16/20, Training Loss: 0.9462218374320239, Validation Loss: 0.9048265741296011, Training Accuracy: 0.5422198457254397, Validation Accuracy: 0.5752268835616439\n"
     ]
    },
    {
     "name": "stderr",
     "output_type": "stream",
     "text": [
      "100%|██████████| 1362/1362 [03:29<00:00,  6.51it/s]\n",
      "100%|██████████| 292/292 [00:19<00:00, 15.22it/s]\n"
     ]
    },
    {
     "name": "stdout",
     "output_type": "stream",
     "text": [
      "Epoch 17/20, Training Loss: 1.0543043921084831, Validation Loss: 1.080313602538958, Training Accuracy: 0.48724554322911073, Validation Accuracy: 0.39175085616438354\n"
     ]
    },
    {
     "name": "stderr",
     "output_type": "stream",
     "text": [
      "100%|██████████| 1362/1362 [03:29<00:00,  6.50it/s]\n",
      "100%|██████████| 292/292 [00:19<00:00, 14.72it/s]\n"
     ]
    },
    {
     "name": "stdout",
     "output_type": "stream",
     "text": [
      "Epoch 18/20, Training Loss: 1.1238980869189583, Validation Loss: 1.0940574272854688, Training Accuracy: 0.4143210419576662, Validation Accuracy: 0.38983304794520546\n"
     ]
    },
    {
     "name": "stderr",
     "output_type": "stream",
     "text": [
      "100%|██████████| 1362/1362 [03:41<00:00,  6.16it/s]\n",
      "100%|██████████| 292/292 [00:17<00:00, 16.32it/s]\n"
     ]
    },
    {
     "name": "stdout",
     "output_type": "stream",
     "text": [
      "Epoch 19/20, Training Loss: 1.1166609966369803, Validation Loss: 1.0756671957365453, Training Accuracy: 0.4165337581927581, Validation Accuracy: 0.4242765410958904\n"
     ]
    },
    {
     "name": "stderr",
     "output_type": "stream",
     "text": [
      "100%|██████████| 1362/1362 [03:48<00:00,  5.96it/s]\n",
      "100%|██████████| 292/292 [00:18<00:00, 15.56it/s]\n"
     ]
    },
    {
     "name": "stdout",
     "output_type": "stream",
     "text": [
      "Epoch 20/20, Training Loss: 1.1244643096444191, Validation Loss: 1.0745624669202387, Training Accuracy: 0.40871622166111526, Validation Accuracy: 0.41841395547945204\n"
     ]
    },
    {
     "name": "stderr",
     "output_type": "stream",
     "text": [
      "100%|██████████| 292/292 [00:18<00:00, 15.53it/s]\n"
     ]
    },
    {
     "name": "stdout",
     "output_type": "stream",
     "text": [
      "Test Accuracy: 0.5770757789417137\n"
     ]
    },
    {
     "data": {
      "image/png": "[encoded data removed]",
      "text/plain": [
       "<Figure size 1000x500 with 1 Axes>"
      ]
     },
     "metadata": {},
     "output_type": "display_data"
    },
    {
     "data": {
      "image/png": "[encoded data removed]",
      "text/plain": [
       "<Figure size 640x480 with 2 Axes>"
      ]
     },
     "metadata": {},
     "output_type": "display_data"
    },
    {
     "ename": "",
     "evalue": "",
     "output_type": "error",
     "traceback": [
      "\u001b[1;31mThe Kernel crashed while executing code in the current cell or a previous cell. \n",
      "\u001b[1;31mPlease review the code in the cell(s) to identify a possible cause of the failure. \n",
      "\u001b[1;31mClick <a href='https://aka.ms/vscodeJupyterKernelCrash'>here</a> for more info. \n",
      "\u001b[1;31mView Jupyter <a href='command:jupyter.viewOutput'>log</a> for further details."
     ]
    }
   ],
   "source": [
    "import numpy as np\n",
    "import pandas as pd\n",
    "import torch\n",
    "import torch.nn as nn\n",
    "import torch.optim as optim\n",
    "from nltk.corpus import stopwords\n",
    "from collections import Counter\n",
    "import re\n",
    "import seaborn as sns\n",
    "from tqdm import tqdm\n",
    "import matplotlib.pyplot as plt\n",
    "from torch.utils.data import TensorDataset, DataLoader\n",
    "from sklearn.model_selection import train_test_split\n",
    "from sklearn.metrics import confusion_matrix, ConfusionMatrixDisplay\n",
    "from torch.nn.utils.rnn import pad_sequence\n",
    "\n",
    "device = torch.device(\"cuda\" if torch.cuda.is_available() else \"cpu\")\n",
    "print(f'Using device: {device}')\n",
    "\n",
    "# Load data\n",
    "data = pd.read_csv('../dataset/process/tweets_cleaned.tsv', sep='\\t')\n",
    "data = data.dropna()\n",
    "\n",
    "X = data['text'].values\n",
    "y = data['sentiment'].values\n",
    "\n",
    "# Split data\n",
    "X_train, X_temp, y_train, y_temp = train_test_split(X, y, test_size=0.3, random_state=42)\n",
    "X_val, X_test, y_val, y_test = train_test_split(X_temp, y_temp, test_size=0.5, random_state=42)\n",
    "\n",
    "print(f'Train size: {len(X_train)}')\n",
    "print(f'Validation size: {len(X_val)}')\n",
    "print(f'Test size: {len(X_test)}')\n",
    "\n",
    "# Plot class distribution\n",
    "dd = pd.Series(y_train).value_counts()\n",
    "sns.barplot(x=np.array(['negative', 'neutral', 'positive']), y=dd.values)\n",
    "plt.show()\n",
    "\n",
    "# Preprocess function\n",
    "def preprocess_string(s):\n",
    "    s = re.sub(r\"[^\\w\\s]\", '', s)\n",
    "    s = re.sub(r\"\\s+\", ' ', s)\n",
    "    s = re.sub(r\"\\d\", '', s)\n",
    "    return s\n",
    "\n",
    "# Tokenize function\n",
    "def tokenize(x_train, x_val, x_test):\n",
    "    word_list = []\n",
    "    stop_words = set(stopwords.words('english'))\n",
    "    for sent in x_train:\n",
    "        for word in sent.lower().split():\n",
    "            word = preprocess_string(word)\n",
    "            if word not in stop_words and word != '':\n",
    "                word_list.append(word)\n",
    "\n",
    "    corpus = Counter(word_list)\n",
    "    vocab = {word: idx for idx, (word, _) in enumerate(corpus.items(), 1)}\n",
    "\n",
    "    def encode(sentences):\n",
    "        return [[vocab[preprocess_string(word)] for word in sent.lower().split() if preprocess_string(word) in vocab] for sent in sentences]\n",
    "\n",
    "    x_train_encoded = encode(x_train)\n",
    "    x_val_encoded = encode(x_val)\n",
    "    x_test_encoded = encode(x_test)\n",
    "    \n",
    "    # Pad sequences\n",
    "    x_train_padded = pad_sequence([torch.tensor(x) for x in x_train_encoded], batch_first=True, padding_value=0)\n",
    "    x_val_padded = pad_sequence([torch.tensor(x) for x in x_val_encoded], batch_first=True, padding_value=0)\n",
    "    x_test_padded = pad_sequence([torch.tensor(x) for x in x_test_encoded], batch_first=True, padding_value=0)\n",
    "    \n",
    "    return x_train_padded, x_val_padded, x_test_padded, vocab\n",
    "\n",
    "X_train_padded, X_val_padded, X_test_padded, vocab = tokenize(X_train, X_val, X_test)\n",
    "y_train_tensor = torch.tensor(y_train)\n",
    "y_val_tensor = torch.tensor(y_val)\n",
    "y_test_tensor = torch.tensor(y_test)\n",
    "\n",
    "# Load pre-trained GloVe embeddings\n",
    "def load_glove_embeddings(glove_file):\n",
    "    embeddings_index = {}\n",
    "    with open(glove_file, encoding=\"utf8\") as f:\n",
    "        for line in f:\n",
    "            values = line.split()\n",
    "            word = values[0]\n",
    "            embedding = np.array(values[1:], dtype='float32')\n",
    "            embeddings_index[word] = embedding\n",
    "    return embeddings_index\n",
    "\n",
    "glove_embeddings = load_glove_embeddings('../dataset/glove_twitter_27B/glove.twitter.27B.100d.txt')\n",
    "\n",
    "# Create embedding matrix\n",
    "embedding_dim = 100\n",
    "embedding_matrix = np.zeros((len(vocab) + 1, embedding_dim))\n",
    "for word, i in vocab.items():\n",
    "    embedding_vector = glove_embeddings.get(word)\n",
    "    if embedding_vector is not None:\n",
    "        embedding_matrix[i] = embedding_vector\n",
    "\n",
    "# Define the LSTM model\n",
    "class SentimentLSTM(nn.Module):\n",
    "    def __init__(self, vocab_size, embedding_dim, hidden_dim, output_dim, n_layers, dropout, embedding_matrix):\n",
    "        super(SentimentLSTM, self).__init__()\n",
    "        self.embedding = nn.Embedding.from_pretrained(torch.tensor(embedding_matrix, dtype=torch.float32))\n",
    "        self.lstm = nn.LSTM(embedding_dim, hidden_dim, num_layers=n_layers, dropout=dropout, batch_first=True)\n",
    "        self.fc = nn.Linear(hidden_dim, output_dim)\n",
    "        self.dropout = nn.Dropout(dropout)\n",
    "    \n",
    "    def forward(self, x):\n",
    "        embedded = self.dropout(self.embedding(x))\n",
    "        lstm_out, _ = self.lstm(embedded)\n",
    "        final_feature_map = self.dropout(lstm_out[:, -1, :])\n",
    "        final_out = self.fc(final_feature_map)\n",
    "        return final_out\n",
    "\n",
    "# Hyperparameters\n",
    "vocab_size = len(vocab) + 1\n",
    "hidden_dim = 256\n",
    "output_dim = 3\n",
    "n_layers = 2\n",
    "dropout = 0.5\n",
    "\n",
    "model = SentimentLSTM(vocab_size, embedding_dim, hidden_dim, output_dim, n_layers, dropout, embedding_matrix)\n",
    "model.to(device)\n",
    "\n",
    "# Loss and optimizer\n",
    "criterion = nn.CrossEntropyLoss()\n",
    "optimizer = optim.Adam(model.parameters(), lr=0.01)\n",
    "\n",
    "# Accuracy calculation function\n",
    "def calculate_accuracy(preds, y):\n",
    "    _, pred_classes = torch.max(preds, 1)\n",
    "    correct = (pred_classes == y).sum().item()\n",
    "    return correct / len(y)\n",
    "\n",
    "epochs = 20\n",
    "patience = 3\n",
    "best_val_loss = float('inf')\n",
    "early_stopping_counter = 0\n",
    "\n",
    "train_losses_over_time = []\n",
    "val_losses_over_time = []\n",
    "\n",
    "for epoch in range(epochs):\n",
    "    model.train()\n",
    "    train_losses = []\n",
    "    train_accuracies = []\n",
    "    for inputs, labels in tqdm(DataLoader(TensorDataset(X_train_padded, y_train_tensor), batch_size=64, shuffle=True)):\n",
    "        inputs, labels = inputs.to(device), labels.to(device)\n",
    "        optimizer.zero_grad()\n",
    "        outputs = model(inputs)\n",
    "        loss = criterion(outputs, labels)\n",
    "        loss.backward()\n",
    "        optimizer.step()\n",
    "        train_losses.append(loss.item())\n",
    "        train_accuracies.append(calculate_accuracy(outputs, labels))\n",
    "\n",
    "    model.eval()\n",
    "    val_losses = []\n",
    "    val_accuracies = []\n",
    "    with torch.no_grad():\n",
    "        for inputs, labels in tqdm(DataLoader(TensorDataset(X_val_padded, y_val_tensor), batch_size=64, shuffle=False)):\n",
    "            inputs, labels = inputs.to(device), labels.to(device)\n",
    "            outputs = model(inputs)\n",
    "            loss = criterion(outputs, labels)\n",
    "            val_losses.append(loss.item())\n",
    "            val_accuracies.append(calculate_accuracy(outputs, labels))\n",
    "\n",
    "    train_loss = np.mean(train_losses)\n",
    "    val_loss = np.mean(val_losses)\n",
    "    train_accuracy = np.mean(train_accuracies)\n",
    "    val_accuracy = np.mean(val_accuracies)\n",
    "    \n",
    "    train_losses_over_time.append(train_loss)\n",
    "    val_losses_over_time.append(val_loss)\n",
    "    \n",
    "    print(f'Epoch {epoch + 1}/{epochs}, Training Loss: {train_loss}, Validation Loss: {val_loss}, Training Accuracy: {train_accuracy}, Validation Accuracy: {val_accuracy}')\n",
    "\n",
    "    if val_loss < best_val_loss:\n",
    "        best_val_loss = val_loss\n",
    "        early_stopping_counter = 0\n",
    "        torch.save(model.state_dict(), 'best_raw_bad_model.pt')\n",
    "\n",
    "model.load_state_dict(torch.load('best_raw_bad_model.pt'))\n",
    "model.eval()\n",
    "test_accuracies = []\n",
    "all_preds = []\n",
    "all_labels = []\n",
    "with torch.no_grad():\n",
    "    for inputs, labels in tqdm(DataLoader(TensorDataset(X_test_padded, y_test_tensor), batch_size=64, shuffle=False)):\n",
    "        inputs, labels = inputs.to(device), labels.to(device)\n",
    "        outputs = model(inputs)\n",
    "        test_accuracies.append(calculate_accuracy(outputs, labels))\n",
    "        all_preds.append(outputs.cpu())\n",
    "        all_labels.append(labels.cpu())\n",
    "\n",
    "test_accuracy = np.mean(test_accuracies)\n",
    "print(f'Test Accuracy: {test_accuracy}')\n",
    "\n",
    "# Plot loss over time\n",
    "plt.figure(figsize=(10, 5))\n",
    "plt.plot(range(len(train_losses_over_time)), train_losses_over_time, label='Training Loss')\n",
    "plt.plot(range(len(val_losses_over_time)), val_losses_over_time, label='Validation Loss')\n",
    "plt.xlabel('Epochs')\n",
    "plt.ylabel('Loss')\n",
    "plt.legend()\n",
    "plt.show()\n",
    "\n",
    "# Plot confusion matrix\n",
    "all_preds = torch.cat(all_preds)\n",
    "all_labels = torch.cat(all_labels)\n",
    "_, pred_classes = torch.max(all_preds, 1)\n",
    "cm = confusion_matrix(all_labels, pred_classes)\n",
    "disp = ConfusionMatrixDisplay(confusion_matrix=cm, display_labels=['negative', 'neutral', 'positive'])\n",
    "disp.plot(cmap=plt.cm.Blues)\n",
    "plt.show()\n"
   ]
  },
  {
   "cell_type": "code",
   "execution_count": null,
   "metadata": {},
   "outputs": [],
   "source": [
    "import torch\n",
    "print(\"CUDA is available:\", torch.cuda.is_available())\n",
    "print(\"CUDA version:\", torch.version.cuda)\n",
    "print(\"PyTorch version:\", torch.__version__)\n"
   ]
  }
 ],
 "metadata": {
  "kernelspec": {
   "display_name": "meme",
   "language": "python",
   "name": "python3"
  },
  "language_info": {
   "codemirror_mode": {
    "name": "ipython",
    "version": 3
   },
   "file_extension": ".py",
   "mimetype": "text/x-python",
   "name": "python",
   "nbconvert_exporter": "python",
   "pygments_lexer": "ipython3",
   "version": "3.11.8"
  }
 },
 "nbformat": 4,
 "nbformat_minor": 2
}
