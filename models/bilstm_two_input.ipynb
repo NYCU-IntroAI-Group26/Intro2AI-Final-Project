{
 "cells": [
  {
   "cell_type": "code",
   "execution_count": 2,
   "metadata": {},
   "outputs": [
    {
     "name": "stdout",
     "output_type": "stream",
     "text": [
      "Train size: 87145\n",
      "Validation size: 18674\n",
      "Test size: 18675\n",
      "Missing words in GloVe: 17102/59427\n"
     ]
    }
   ],
   "source": [
    "import pandas as pd\n",
    "import numpy as np\n",
    "import re\n",
    "from collections import Counter\n",
    "import torch\n",
    "import torch.nn as nn\n",
    "import torch.optim as optim\n",
    "from torch.utils.data import DataLoader, TensorDataset\n",
    "from torch.nn.utils.rnn import pad_sequence\n",
    "from sklearn.model_selection import train_test_split\n",
    "from sklearn.metrics import confusion_matrix, ConfusionMatrixDisplay\n",
    "import matplotlib.pyplot as plt\n",
    "from nltk.corpus import stopwords\n",
    "from tqdm import tqdm\n",
    "\n",
    "# Load data\n",
    "data = pd.read_csv('../dataset/process/tweets_convert_cleaned.tsv', sep='\\t')\n",
    "data['emo'] = data['emo'].fillna(\"Nan\")\n",
    "data = data.dropna(subset=['text'])\n",
    "\n",
    "X_text = data['text'].values\n",
    "X_emo = data['emo'].values\n",
    "y = data['sentiment'].values\n",
    "\n",
    "# Split data\n",
    "X_text_train, X_text_temp, X_emo_train, X_emo_temp, y_train, y_temp = train_test_split(X_text, X_emo, y, test_size=0.3, random_state=42)\n",
    "X_text_val, X_text_test, X_emo_val, X_emo_test, y_val, y_test = train_test_split(X_text_temp, X_emo_temp, y_temp, test_size=0.5, random_state=42)\n",
    "\n",
    "print(f'Train size: {len(X_text_train)}')\n",
    "print(f'Validation size: {len(X_text_val)}')\n",
    "print(f'Test size: {len(X_text_test)}')\n",
    "\n",
    "# Preprocess function\n",
    "def preprocess_string(s):\n",
    "    s = re.sub(r\"[^\\w\\s]\", '', s)\n",
    "    s = re.sub(r\"\\s+\", ' ', s)\n",
    "    s = re.sub(r\"\\d\", '', s)\n",
    "    return s\n",
    "\n",
    "# Tokenize function\n",
    "def tokenize(x_train, x_val, x_test):\n",
    "    word_list = []\n",
    "    stop_words = set(stopwords.words('english'))\n",
    "    for sent in x_train:\n",
    "        for word in sent.lower().split():\n",
    "            word = preprocess_string(word)\n",
    "            if word not in stop_words and word != '':\n",
    "                word_list.append(word)\n",
    "\n",
    "    corpus = Counter(word_list)\n",
    "    # Create a vocabulary index\n",
    "    vocab = {word: idx for idx, (word, _) in enumerate(corpus.items(), 1)}\n",
    "\n",
    "    def encode(sentences):\n",
    "        return [[vocab[preprocess_string(word)] for word in sent.lower().split() if preprocess_string(word) in vocab] for sent in sentences]\n",
    "\n",
    "    x_train_encoded = encode(x_train)\n",
    "    x_val_encoded = encode(x_val)\n",
    "    x_test_encoded = encode(x_test)\n",
    "    \n",
    "    # Pad sequences\n",
    "    x_train_padded = pad_sequence([torch.tensor(x) for x in x_train_encoded], batch_first=True, padding_value=0)\n",
    "    x_val_padded = pad_sequence([torch.tensor(x) for x in x_val_encoded], batch_first=True, padding_value=0)\n",
    "    x_test_padded = pad_sequence([torch.tensor(x) for x in x_test_encoded], batch_first=True, padding_value=0)\n",
    "    \n",
    "    return x_train_padded, x_val_padded, x_test_padded, vocab\n",
    "\n",
    "# Preprocess and tokenize the text\n",
    "X_train_padded, X_val_padded, X_test_padded, vocab = tokenize(X_text_train, X_text_val, X_text_test)\n",
    "\n",
    "# Preprocess and tokenize the emo feature\n",
    "emo_vocab = {word: idx for idx, (word, _) in enumerate(Counter([preprocess_string(word) for sent in X_emo for word in sent.lower().split()]).items(), 1)}\n",
    "\n",
    "def encode_emo(sentences):\n",
    "    return [[emo_vocab[preprocess_string(word)] for word in sent.lower().split() if preprocess_string(word) in emo_vocab] for sent in sentences]\n",
    "\n",
    "X_emo_train_encoded = encode_emo(X_emo_train)\n",
    "X_emo_val_encoded = encode_emo(X_emo_val)\n",
    "X_emo_test_encoded = encode_emo(X_emo_test)\n",
    "\n",
    "# Pad sequences\n",
    "X_emo_train_padded = pad_sequence([torch.tensor(x) for x in X_emo_train_encoded], batch_first=True, padding_value=0)\n",
    "X_emo_val_padded = pad_sequence([torch.tensor(x) for x in X_emo_val_encoded], batch_first=True, padding_value=0)\n",
    "X_emo_test_padded = pad_sequence([torch.tensor(x) for x in X_emo_test_encoded], batch_first=True, padding_value=0)\n",
    "\n",
    "y_train_tensor = torch.tensor(y_train)\n",
    "y_val_tensor = torch.tensor(y_val)\n",
    "y_test_tensor = torch.tensor(y_test)\n",
    "\n",
    "# Load pre-trained GloVe embeddings\n",
    "def load_glove_embeddings(glove_file):\n",
    "    embeddings_index = {}\n",
    "    with open(glove_file, encoding=\"utf8\") as f:\n",
    "        for line in f:\n",
    "            values = line.split()\n",
    "            word = values[0]\n",
    "            embedding = np.array(values[1:], dtype='float32')\n",
    "            embeddings_index[word] = embedding\n",
    "    return embeddings_index\n",
    "\n",
    "glove_embeddings = load_glove_embeddings('../dataset/glove_twitter_27B/glove.twitter.27B.100d.txt')\n",
    "\n",
    "# Check for missing words in GloVe\n",
    "missing_words = [word for word in vocab.keys() if word not in glove_embeddings]\n",
    "print(f'Missing words in GloVe: {len(missing_words)}/{len(vocab)}')\n",
    "\n",
    "# Create embedding matrix for text\n",
    "embedding_dim = 100\n",
    "embedding_matrix = np.zeros((len(vocab) + 1, embedding_dim))\n",
    "for word, i in vocab.items():\n",
    "    embedding_vector = glove_embeddings.get(word)\n",
    "    if embedding_vector is not None:\n",
    "        embedding_matrix[i] = embedding_vector\n",
    "\n",
    "# Create random embedding matrix for emo (since GloVe embeddings for emojis are not available)\n",
    "emo_embedding_dim = 100\n",
    "emo_embedding_matrix = np.random.rand(len(emo_vocab) + 1, emo_embedding_dim)\n",
    "\n",
    "class SentimentBiLSTM(nn.Module):\n",
    "    def __init__(self, vocab_size, emo_vocab_size, embedding_dim, emo_embedding_dim, hidden_dim, output_dim, n_layers, dropout, embedding_matrix, emo_embedding_matrix):\n",
    "        super(SentimentBiLSTM, self).__init__()\n",
    "        self.embedding = nn.Embedding.from_pretrained(torch.tensor(embedding_matrix, dtype=torch.float32))\n",
    "        self.emo_embedding = nn.Embedding.from_pretrained(torch.tensor(emo_embedding_matrix, dtype=torch.float32))\n",
    "        self.lstm = nn.LSTM(embedding_dim, hidden_dim, num_layers=n_layers, dropout=dropout, batch_first=True, bidirectional=True)\n",
    "        self.fc = nn.Linear(hidden_dim * 2 + emo_embedding_dim, output_dim)  # *2 because of bidirectional\n",
    "        self.dropout = nn.Dropout(dropout)\n",
    "    \n",
    "    def forward(self, x, emo):\n",
    "        embedded = self.dropout(self.embedding(x))\n",
    "        emo_embedded = self.dropout(self.emo_embedding(emo))\n",
    "        lstm_out, _ = self.lstm(embedded)\n",
    "        final_feature_map = self.dropout(torch.cat((lstm_out[:, -1, :hidden_dim], lstm_out[:, 0, hidden_dim:], emo_embedded[:, -1, :]), dim=1))\n",
    "        final_out = self.fc(final_feature_map)\n",
    "        return final_out\n"
   ]
  },
  {
   "cell_type": "code",
   "execution_count": 3,
   "metadata": {},
   "outputs": [],
   "source": [
    "# Hyperparameters\n",
    "vocab_size = len(vocab) + 1\n",
    "emo_vocab_size = len(emo_vocab) + 1\n",
    "hidden_dim = 256\n",
    "output_dim = 3\n",
    "n_layers = 2\n",
    "dropout = 0.5\n",
    "\n",
    "device = torch.device('cuda' if torch.cuda.is_available() else 'cpu')\n",
    "model = SentimentBiLSTM(vocab_size, emo_vocab_size, embedding_dim, emo_embedding_dim, hidden_dim, output_dim, n_layers, dropout, embedding_matrix, emo_embedding_matrix)\n",
    "model.to(device)\n",
    "\n",
    "# Loss and optimizer\n",
    "criterion = nn.CrossEntropyLoss()\n",
    "optimizer = optim.Adam(model.parameters(), lr=0.001)"
   ]
  },
  {
   "cell_type": "code",
   "execution_count": 4,
   "metadata": {},
   "outputs": [
    {
     "name": "stderr",
     "output_type": "stream",
     "text": [
      "100%|██████████| 1362/1362 [10:07<00:00,  2.24it/s]\n",
      "100%|██████████| 292/292 [00:40<00:00,  7.22it/s]\n"
     ]
    },
    {
     "name": "stdout",
     "output_type": "stream",
     "text": [
      "Epoch 1/10, Training Loss: 0.8755127693062837, Validation Loss: 0.8085319093645436, Training Accuracy: 0.5869221419361771, Validation Accuracy: 0.632007705479452\n"
     ]
    },
    {
     "name": "stderr",
     "output_type": "stream",
     "text": [
      "100%|██████████| 1362/1362 [09:49<00:00,  2.31it/s]\n",
      "100%|██████████| 292/292 [00:42<00:00,  6.80it/s]\n"
     ]
    },
    {
     "name": "stdout",
     "output_type": "stream",
     "text": [
      "Epoch 2/10, Training Loss: 0.8420637012315741, Validation Loss: 0.7980013371330418, Training Accuracy: 0.6092720309086351, Validation Accuracy: 0.6374507705479452\n"
     ]
    },
    {
     "name": "stderr",
     "output_type": "stream",
     "text": [
      "100%|██████████| 1362/1362 [09:17<00:00,  2.44it/s]\n",
      "100%|██████████| 292/292 [00:43<00:00,  6.67it/s]\n"
     ]
    },
    {
     "name": "stdout",
     "output_type": "stream",
     "text": [
      "Epoch 3/10, Training Loss: 0.8267957966845816, Validation Loss: 0.7899127561752111, Training Accuracy: 0.6209800083270657, Validation Accuracy: 0.6407448630136986\n"
     ]
    },
    {
     "name": "stderr",
     "output_type": "stream",
     "text": [
      "100%|██████████| 1362/1362 [09:07<00:00,  2.49it/s]\n",
      "100%|██████████| 292/292 [00:33<00:00,  8.81it/s]\n"
     ]
    },
    {
     "name": "stdout",
     "output_type": "stream",
     "text": [
      "Epoch 4/10, Training Loss: 0.8160548267473033, Validation Loss: 0.7899438357108259, Training Accuracy: 0.625821234465098, Validation Accuracy: 0.6363035102739726\n"
     ]
    },
    {
     "name": "stderr",
     "output_type": "stream",
     "text": [
      "100%|██████████| 1362/1362 [07:14<00:00,  3.13it/s]\n",
      "100%|██████████| 292/292 [00:28<00:00, 10.33it/s]\n"
     ]
    },
    {
     "name": "stdout",
     "output_type": "stream",
     "text": [
      "Epoch 5/10, Training Loss: 0.8074380667899324, Validation Loss: 0.7832228080050586, Training Accuracy: 0.6298823578131155, Validation Accuracy: 0.6428553082191781\n"
     ]
    },
    {
     "name": "stderr",
     "output_type": "stream",
     "text": [
      "100%|██████████| 1362/1362 [06:35<00:00,  3.44it/s]\n",
      "100%|██████████| 292/292 [00:28<00:00, 10.38it/s]\n"
     ]
    },
    {
     "name": "stdout",
     "output_type": "stream",
     "text": [
      "Epoch 6/10, Training Loss: 0.7974519736616272, Validation Loss: 0.7762248107831772, Training Accuracy: 0.636542611296157, Validation Accuracy: 0.6468835616438355\n"
     ]
    },
    {
     "name": "stderr",
     "output_type": "stream",
     "text": [
      "100%|██████████| 1362/1362 [06:33<00:00,  3.46it/s]\n",
      "100%|██████████| 292/292 [00:27<00:00, 10.44it/s]\n"
     ]
    },
    {
     "name": "stdout",
     "output_type": "stream",
     "text": [
      "Epoch 7/10, Training Loss: 0.7901993821458494, Validation Loss: 0.770674856149987, Training Accuracy: 0.6408891381039361, Validation Accuracy: 0.6490625\n"
     ]
    },
    {
     "name": "stderr",
     "output_type": "stream",
     "text": [
      "100%|██████████| 1362/1362 [06:34<00:00,  3.46it/s]\n",
      "100%|██████████| 292/292 [00:28<00:00, 10.30it/s]\n"
     ]
    },
    {
     "name": "stdout",
     "output_type": "stream",
     "text": [
      "Epoch 8/10, Training Loss: 0.7831252429978963, Validation Loss: 0.7761638746277927, Training Accuracy: 0.6435061759070234, Validation Accuracy: 0.6499336472602739\n"
     ]
    },
    {
     "name": "stderr",
     "output_type": "stream",
     "text": [
      "100%|██████████| 1362/1362 [06:33<00:00,  3.46it/s]\n",
      "100%|██████████| 292/292 [00:28<00:00, 10.25it/s]\n"
     ]
    },
    {
     "name": "stdout",
     "output_type": "stream",
     "text": [
      "Epoch 9/10, Training Loss: 0.7777884115906714, Validation Loss: 0.7671418367591623, Training Accuracy: 0.6467004561978439, Validation Accuracy: 0.6498266267123287\n"
     ]
    },
    {
     "name": "stderr",
     "output_type": "stream",
     "text": [
      "100%|██████████| 1362/1362 [06:31<00:00,  3.48it/s]\n",
      "100%|██████████| 292/292 [00:28<00:00, 10.41it/s]"
     ]
    },
    {
     "name": "stdout",
     "output_type": "stream",
     "text": [
      "Epoch 10/10, Training Loss: 0.7712254326861685, Validation Loss: 0.7686489120329896, Training Accuracy: 0.6497226549908671, Validation Accuracy: 0.6500256849315069\n"
     ]
    },
    {
     "name": "stderr",
     "output_type": "stream",
     "text": [
      "\n"
     ]
    }
   ],
   "source": [
    "# Accuracy calculation function\n",
    "def calculate_accuracy(preds, y):\n",
    "    _, pred_classes = torch.max(preds, 1)\n",
    "    correct = (pred_classes == y).sum().item()\n",
    "    return correct / len(y)\n",
    "\n",
    "# Training loop with early stopping\n",
    "epochs = 10\n",
    "patience = 3\n",
    "best_val_loss = float('inf')\n",
    "early_stopping_counter = 0\n",
    "\n",
    "train_losses_over_time = []\n",
    "val_losses_over_time = []\n",
    "\n",
    "for epoch in range(epochs):\n",
    "    model.train()\n",
    "    train_losses = []\n",
    "    train_accuracies = []\n",
    "    for inputs, emos, labels in tqdm(DataLoader(TensorDataset(X_train_padded, X_emo_train_padded, y_train_tensor), batch_size=64, shuffle=True)):\n",
    "        inputs, emos, labels = inputs.to(device), emos.to(device), labels.to(device)\n",
    "        optimizer.zero_grad()\n",
    "        outputs = model(inputs, emos)\n",
    "        loss = criterion(outputs, labels)\n",
    "        loss.backward()\n",
    "        optimizer.step()\n",
    "        train_losses.append(loss.item())\n",
    "        train_accuracies.append(calculate_accuracy(outputs, labels))\n",
    "\n",
    "    model.eval()\n",
    "    val_losses = []\n",
    "    val_accuracies = []\n",
    "    with torch.no_grad():\n",
    "        for inputs, emos, labels in tqdm(DataLoader(TensorDataset(X_val_padded, X_emo_val_padded, y_val_tensor), batch_size=64, shuffle=False)):\n",
    "            inputs, emos, labels = inputs.to(device), emos.to(device), labels.to(device)\n",
    "            outputs = model(inputs, emos)\n",
    "            loss = criterion(outputs, labels)\n",
    "            val_losses.append(loss.item())\n",
    "            val_accuracies.append(calculate_accuracy(outputs, labels))\n",
    "\n",
    "    train_loss = np.mean(train_losses)\n",
    "    val_loss = np.mean(val_losses)\n",
    "    train_accuracy = np.mean(train_accuracies)\n",
    "    val_accuracy = np.mean(val_accuracies)\n",
    "    \n",
    "    train_losses_over_time.append(train_loss)\n",
    "    val_losses_over_time.append(val_loss)\n",
    "    \n",
    "    print(f'Epoch {epoch + 1}/{epochs}, Training Loss: {train_loss}, Validation Loss: {val_loss}, Training Accuracy: {train_accuracy}, Validation Accuracy: {val_accuracy}')\n",
    "\n",
    "    if val_loss < best_val_loss:\n",
    "        best_val_loss = val_loss\n",
    "        early_stopping_counter = 0\n",
    "        torch.save(model.state_dict(), 'best_two_bilstm_model.pt')\n",
    "    # else:\n",
    "    #     early_stopping_counter += 1\n",
    "    #     if early_stopping_counter >= patience:\n",
    "    #         print('Early stopping')\n",
    "    #         break"
   ]
  },
  {
   "cell_type": "code",
   "execution_count": 5,
   "metadata": {},
   "outputs": [
    {
     "name": "stderr",
     "output_type": "stream",
     "text": [
      "100%|██████████| 292/292 [00:27<00:00, 10.58it/s]\n"
     ]
    },
    {
     "name": "stdout",
     "output_type": "stream",
     "text": [
      "Test Accuracy: 0.6509871071716358\n"
     ]
    },
    {
     "data": {
      "image/png": "[encoded data removed]",
      "text/plain": [
       "<Figure size 1000x500 with 1 Axes>"
      ]
     },
     "metadata": {},
     "output_type": "display_data"
    },
    {
     "data": {
      "image/png": "[encoded data removed]",
      "text/plain": [
       "<Figure size 640x480 with 2 Axes>"
      ]
     },
     "metadata": {},
     "output_type": "display_data"
    }
   ],
   "source": [
    "# Load the best model and evaluate on the test set\n",
    "model.load_state_dict(torch.load('best_two_bilstm_model.pt'))\n",
    "model.eval()\n",
    "test_accuracies = []\n",
    "all_preds = []\n",
    "all_labels = []\n",
    "with torch.no_grad():\n",
    "    for inputs, emos, labels in tqdm(DataLoader(TensorDataset(X_test_padded, X_emo_test_padded, y_test_tensor), batch_size=64, shuffle=False)):\n",
    "        inputs, emos, labels = inputs.to(device), emos.to(device), labels.to(device)\n",
    "        outputs = model(inputs, emos)\n",
    "        test_accuracies.append(calculate_accuracy(outputs, labels))\n",
    "        all_preds.append(outputs.cpu())\n",
    "        all_labels.append(labels.cpu())\n",
    "\n",
    "test_accuracy = np.mean(test_accuracies)\n",
    "print(f'Test Accuracy: {test_accuracy}')\n",
    "\n",
    "# Plot loss over time\n",
    "plt.figure(figsize=(10, 5))\n",
    "plt.plot(range(len(train_losses_over_time)), train_losses_over_time, label='Training Loss')\n",
    "plt.plot(range(len(val_losses_over_time)), val_losses_over_time, label='Validation Loss')\n",
    "plt.xlabel('Epochs')\n",
    "plt.ylabel('Loss')\n",
    "plt.legend()\n",
    "plt.show()\n",
    "\n",
    "# Plot confusion matrix\n",
    "all_preds = torch.cat(all_preds)\n",
    "all_labels = torch.cat(all_labels)\n",
    "_, pred_classes = torch.max(all_preds, 1)\n",
    "cm = confusion_matrix(all_labels, pred_classes)\n",
    "disp = ConfusionMatrixDisplay(confusion_matrix=cm, display_labels=['negative', 'neutral', 'positive'])\n",
    "disp.plot(cmap=plt.cm.Blues)\n",
    "plt.show()"
   ]
  }
 ],
 "metadata": {
  "kernelspec": {
   "display_name": "meme",
   "language": "python",
   "name": "python3"
  },
  "language_info": {
   "codemirror_mode": {
    "name": "ipython",
    "version": 3
   },
   "file_extension": ".py",
   "mimetype": "text/x-python",
   "name": "python",
   "nbconvert_exporter": "python",
   "pygments_lexer": "ipython3",
   "version": "3.11.8"
  }
 },
 "nbformat": 4,
 "nbformat_minor": 2
}
